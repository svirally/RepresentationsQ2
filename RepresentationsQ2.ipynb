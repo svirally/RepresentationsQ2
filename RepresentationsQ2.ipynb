{
 "cells": [
  {
   "cell_type": "markdown",
   "metadata": {},
   "source": [
    "<a rel=\"license\" href=\"http://creativecommons.org/licenses/by/4.0/\"><img alt=\"Creative Commons License\" style=\"border-width:0\" src=\"https://i.creativecommons.org/l/by/4.0/80x15.png\" /></a><br /><span xmlns:dct=\"http://purl.org/dc/terms/\" property=\"dct:title\">Representations of second-quantized states</span> by <span xmlns:cc=\"http://creativecommons.org/ns#\" property=\"cc:attributionName\">Stephane Virally</span> is licensed under a <a rel=\"license\" href=\"http://creativecommons.org/licenses/by/4.0/\">Creative Commons Attribution 4.0 International License</a>."
   ]
  },
  {
   "cell_type": "markdown",
   "metadata": {},
   "source": [
    "### Imports and definitions"
   ]
  },
  {
   "cell_type": "code",
   "execution_count": 19,
   "metadata": {},
   "outputs": [],
   "source": [
    "# \n",
    "import numpy as np\n",
    "import sympy as sp\n",
    "import matplotlib.pyplot as plt\n",
    "import scipy.constants as sc\n",
    "import qutip as qu\n",
    "import imageio\n",
    "from matplotlib.image import imsave\n",
    "from random import uniform\n",
    "from matplotlib import colors as colors\n",
    "from numpy.polynomial.hermite import hermval\n",
    "from scipy.special import gamma, factorial\n",
    "from numpy.lib.scimath import sqrt, log, power, arccos, arcsin, arctanh\n",
    "from numpy import exp, sin, cos, tan, sinh, cosh, tanh, arctan, arcsinh, arccosh\n",
    "sp.init_printing()\n",
    "fS = 24;\n",
    "fH = 6.0;\n",
    "rcctxh = {\"font.family\": \"STIXGeneral\", \"font.size\": fS, \"legend.fontsize\": fS, \"figure.titlesize\": fS,\n",
    "         \"axes.titlesize\": fS, \"axes.labelsize\": fS, \"xtick.labelsize\": fS, \"ytick.labelsize\": fS,\n",
    "         \"savefig.format\": \"pdf\", \"figure.figsize\": [fH*1.618, fH]};\n",
    "rcctxv = {\"font.family\": \"STIXGeneral\", \"font.size\": fS, \"legend.fontsize\": fS, \"figure.titlesize\": fS,\n",
    "         \"axes.titlesize\": fS, \"axes.labelsize\": fS, \"xtick.labelsize\": fS, \"ytick.labelsize\": fS,\n",
    "         \"savefig.format\": \"pdf\", \"figure.figsize\": [fH, fH*1.618]};\n",
    "rcctxs = {\"font.family\": \"STIXGeneral\", \"font.size\": fS, \"legend.fontsize\": fS, \"figure.titlesize\": fS,\n",
    "         \"axes.titlesize\": fS, \"axes.labelsize\": fS, \"xtick.labelsize\": fS, \"ytick.labelsize\": fS,\n",
    "         \"savefig.format\": \"pdf\", \"figure.figsize\": [fH, fH]};"
   ]
  },
  {
   "cell_type": "markdown",
   "metadata": {},
   "source": [
    "### Utility functions"
   ]
  },
  {
   "cell_type": "code",
   "execution_count": 2,
   "metadata": {},
   "outputs": [],
   "source": [
    "# RGB image from figure\n",
    "def fig2img(canvas, colortype='RGB', croph=0, cropw=0):\n",
    "    \"\"\"\n",
    "    Extracts RGB image from figure\n",
    "    canvas: canvas of the figure\n",
    "    colortype: RGB or alpha-RGB (ARGB)\n",
    "    croph: crop height (figure croped around center, to height croph)\n",
    "    cropw: crop width (figure croped around center, to width cropw)\n",
    "    \"\"\"\n",
    "    canvas.draw()\n",
    "    (width, height) = canvas.get_width_height()\n",
    "    if colortype == 'ARGB':\n",
    "        imgarray = np.frombuffer(canvas.tostring_argb(), dtype='uint8').reshape((height, width, 4))\n",
    "    else:\n",
    "        imgarray = np.frombuffer(canvas.tostring_rgb(), dtype='uint8').reshape((height, width, 3))\n",
    "    if (croph>0) and (croph<height):\n",
    "        crophT = (height-croph)//2\n",
    "        crophB = height-croph-crophT\n",
    "        imgarray = imgarray[crophT:-crophB,:,:]\n",
    "    if (cropw>0) and (cropw<width):\n",
    "        cropwL = (width-cropw)//2\n",
    "        cropwR = width-cropw-cropwL\n",
    "        imgarray = imgarray[:,cropwL:-cropwR,:]   \n",
    "    return imgarray\n",
    "\n",
    "# Color normalization around definite midpoint\n",
    "class mpNormalize(colors.Normalize):\n",
    "    def __init__(self, vmin=None, vmax=None, vmid=0., clip=False):\n",
    "        self.vmid = vmid\n",
    "        colors.Normalize.__init__(self, vmin, vmax, clip)\n",
    "\n",
    "    def __call__(self, value, clip=None):\n",
    "        x, y = [self.vmin, self.vmid, self.vmax], [0, 0.5, 1]\n",
    "        return np.ma.masked_array(np.interp(value, x, y))\n",
    "\n",
    "# Hermite function series from Hermite polynomial series hermval\n",
    "def hermfval(x, cs):\n",
    "    ns = np.arange(len(cs))\n",
    "    return hermval(x, cs/sqrt((2**ns)*factorial(ns)))*exp(-x**2/2)/(sc.pi)**0.25\n",
    "\n",
    "# Draw random data from given probability density function\n",
    "def randomfromfun(data, frequency, numberofpoints):\n",
    "    cumulativefrequency = np.zeros(len(frequency))\n",
    "    cumulativefrequency[0] = frequency[0]\n",
    "    for i in range(1, len(frequency)):\n",
    "        cumulativefrequency[i] = cumulativefrequency[i-1]+frequency[i]+1e-12\n",
    "    res = np.zeros(numberofpoints)\n",
    "    for i in range(numberofpoints):\n",
    "        y = uniform(0, cumulativefrequency[-1])\n",
    "        res[i] = np.interp(y, cumulativefrequency, data)\n",
    "    return res"
   ]
  },
  {
   "cell_type": "markdown",
   "metadata": {},
   "source": [
    "### Second quantized states visualization functions"
   ]
  },
  {
   "cell_type": "code",
   "execution_count": 75,
   "metadata": {},
   "outputs": [],
   "source": [
    "# Sticks\n",
    "def plotSticks(S, nmax, yzlim, titlename='', savename=''):\n",
    "    ns = S.data.toarray().flatten()\n",
    "    reals = np.real(ns)\n",
    "    imags = np.imag(ns)\n",
    "    if nmax > len(ns):\n",
    "        nmax = len(ns)\n",
    "    with plt.rc_context(rcctxv):\n",
    "        fig = plt.figure()\n",
    "        ax = fig.add_subplot(111, projection='3d')\n",
    "        ax.set_facecolor('white')\n",
    "        ax.plot((0, nmax-1), (0.0,0.0), (0.0,0.0), color='lightslategrey', lw=2)\n",
    "        for n in range(nmax-1,-1,-1):\n",
    "            ax.quiver(n, 0., 0., 0., reals[n], imags[n], color='midnightblue', lw=2, arrow_length_ratio=0.2, length=1.5)\n",
    "            #ax.plot((n, n), (0.0, reals[n]), (0.0, imags[n]), color='steelblue', lw=2)\n",
    "            #ax.plot((n, n), (reals[n], reals[n]), (imags[n] , imags[n]), marker='o', color='tomato')\n",
    "        #ax.view_init(elev=-135, azim=5)\n",
    "        ax.view_init(elev=-120, azim=10)\n",
    "        ax.set_xlim(-0.5, nmax-0.5)\n",
    "        ax.set_ylim(-yzlim, yzlim)\n",
    "        ax.set_zlim(-yzlim, yzlim)\n",
    "        ax.set_axis_off()\n",
    "        #plt.tick_params(axis='both', which='both', bottom=False, top=False, labelbottom=False, right=False, left=False, labelleft=False)\n",
    "        if titlename:\n",
    "            plt.title(titlename)\n",
    "        image = fig2img(fig.canvas)\n",
    "        if savename:\n",
    "            fig.set_dpi(144)\n",
    "            #fig.canvas.print_png(savename + '.png', transparent=True, bbox='tight', pad=0)\n",
    "            fig.canvas.print_png(savename + '.png')\n",
    "        plt.close(fig)\n",
    "    return image\n",
    "\n",
    "# Wigner\n",
    "def plotWigner(S, X, ticks, ticklabels, titlename='', savename='', cmap='bwr'):\n",
    "    W = qu.wigner(S, X, X)\n",
    "    with plt.rc_context(rcctxh):\n",
    "        fig = plt.figure()\n",
    "        ax = fig.add_subplot(111, aspect='equal')\n",
    "        ax.set_facecolor('white')\n",
    "        ctr = ax.contour(X, X, W, 1000, cmap=cmap, norm=mpNormalize())\n",
    "        #cb = fig.colorbar(ctr, ax=ax)\n",
    "        #cb.set_ticks(ticks)\n",
    "        #cb.set_ticklabels(ticklabels)\n",
    "        #ax.set_axis_off()\n",
    "        plt.tick_params(axis='both', which='both', bottom=False, top=False, labelbottom=False, right=False, left=False, labelleft=False)\n",
    "        if titlename:\n",
    "            plt.title(titlename)\n",
    "        image = fig2img(fig.canvas)\n",
    "        if savename:\n",
    "            fig.set_dpi(144)\n",
    "            #fig.canvas.print_png(savename + '.png', transparent=True, bbox='tight', pad=0)\n",
    "            fig.canvas.print_png(savename + '.png')\n",
    "        plt.close(fig)\n",
    "    return image\n",
    "\n",
    "# Harmonic oscillator levels\n",
    "def plotHarmonic(S, nmax, xlim, ylim, titlename='', savename=''):\n",
    "    ns = S.data.toarray().flatten()\n",
    "    creals = np.real(ns)\n",
    "    cimags = np.imag(ns)\n",
    "    if nmax > len(ns):\n",
    "        nmax = len(ns)\n",
    "    k = nmax/xlim**2\n",
    "    xs = np.linspace(-xlim, xlim, int(100*xlim)+1)\n",
    "    reals = np.zeros([nmax+1, len(xs)])\n",
    "    imags = np.zeros([nmax+1, len(xs)])\n",
    "    for i in range(nmax+1):\n",
    "        zerosandoneone = np.zeros(i+1, dtype=int)\n",
    "        zerosandoneone[-1] = 1\n",
    "        reals[i] = hermfval(xs, creals[:i+1]*zerosandoneone)\n",
    "        imags[i] = hermfval(xs, cimags[:i+1]*zerosandoneone)\n",
    "    ws = hermfval(xs, (creals+1j*cimags))\n",
    "    with plt.rc_context(rcctxs):\n",
    "        fig = plt.figure()\n",
    "        ax = fig.add_subplot(111)\n",
    "        ax.set_facecolor('white')\n",
    "        for i in range(nmax+1):\n",
    "            ax.plot(xs, reals[i]+i, color='midnightblue', lw=1)\n",
    "            ax.plot(xs, imags[i]+i, color='darkred', lw=1)\n",
    "        ax.plot(xs, 2*abs(ws)**2-2, color='darkgreen', lw=1)\n",
    "        ax.plot(xs, k*xs**2, color='lightslategray', lw=1)\n",
    "        ax.set_xlim(-xlim, xlim)\n",
    "        ax.set_ylim(-ylim-2, ylim+nmax)\n",
    "        #ax.set_axis_off()\n",
    "        plt.tick_params(axis='both', which='both', bottom=False, top=False, labelbottom=False, right=False, left=False, labelleft=False)\n",
    "        if titlename:\n",
    "            plt.title(titlename)\n",
    "        image = fig2img(fig.canvas)\n",
    "        if savename:\n",
    "            fig.set_dpi(144)\n",
    "            #fig.canvas.print_png(savename + '.png', transparent=True, bbox='tight', pad=0)\n",
    "            fig.canvas.print_png(savename + '.png')\n",
    "        plt.close(fig)\n",
    "    return image\n",
    "\n",
    "# Time-like\n",
    "def plotTime(evS, ts, xlim, titlename='', savename='', color='midnightblue'):\n",
    "    rs = np.zeros([len(evS.states), 100])\n",
    "    xs = np.linspace(-xlim, xlim, int(100*xlim)+1)\n",
    "    for i in range(len(evS.states)):\n",
    "        ns = evS.states[i].data.toarray().flatten()\n",
    "        fs = abs(hermfval(xs, ns))**2\n",
    "        rs[i] = randomfromfun(xs, fs, 100)\n",
    "    with plt.rc_context(rcctxs):\n",
    "        fig = plt.figure()\n",
    "        ax = fig.add_subplot(111)\n",
    "        ax.set_facecolor('white')\n",
    "        ax.plot(ts, rs, color=color, marker='.', linestyle='None', markersize=1)\n",
    "        ax.set_xlim(ts[0], ts[-1])\n",
    "        ax.set_ylim(-xlim, xlim)\n",
    "        #ax.set_axis_off()\n",
    "        plt.tick_params(axis='both', which='both', bottom=False, top=False, labelbottom=False, right=False, left=False, labelleft=False)\n",
    "        #plt.xlabel('$t/T$')\n",
    "        #plt.ylabel('Electric field [arb. un.]')\n",
    "        if titlename:\n",
    "            plt.title(titlename)\n",
    "        fig.set_dpi(144)\n",
    "        image = fig2img(fig.canvas, croph=640, cropw=640)\n",
    "        if savename:\n",
    "            imsave(savename+'.png', image)\n",
    "        plt.close(fig)\n",
    "    return image"
   ]
  },
  {
   "cell_type": "markdown",
   "metadata": {},
   "source": [
    "### Hilbert space and Hamiltonian for a single second quantized frequency mode"
   ]
  },
  {
   "cell_type": "code",
   "execution_count": 4,
   "metadata": {},
   "outputs": [],
   "source": [
    "# Fock space dimension\n",
    "N = 40\n",
    "# Hamiltonian\n",
    "H = 2*sc.pi*qu.num(40)"
   ]
  },
  {
   "cell_type": "markdown",
   "metadata": {},
   "source": [
    "### Coherent state"
   ]
  },
  {
   "cell_type": "code",
   "execution_count": 32,
   "metadata": {},
   "outputs": [],
   "source": [
    "# Creation\n",
    "Sa = (qu.coherent(N, np.sqrt(3)*1j)).unit()\n",
    "# Evolution\n",
    "n_a = 40\n",
    "max_a = 1\n",
    "times_a = np.linspace(0.0, max_a*(n_a-1)/n_a, n_a)\n",
    "evSa = qu.mesolve(H, Sa, times_a, [], [])"
   ]
  },
  {
   "cell_type": "code",
   "execution_count": 74,
   "metadata": {},
   "outputs": [],
   "source": [
    "# Wigner\n",
    "X_a = np.linspace(-7,7,351)\n",
    "W_a = qu.wigner(evSa.states[0], X_a, X_a)\n",
    "ticks_a = [0., W_a.max()]\n",
    "ticklabels_a = ['{:.2f}'.format(0.),'{:.2f}'.format(W_a.max())]\n",
    "wignercoherentimages = [plotWigner(S, X_a, ticks_a, ticklabels_a, 'Coherent state', '', 'bwr') for S in evSa.states]\n",
    "imageio.mimsave('./wignercoherent.gif', wignercoherentimages, fps=10);\n",
    "#wignercoherentimages = [plotWigner(S, X_a, ticks_a, ticklabels_a, 'Coherent state', '', 'PRGn') for S in evSa.states]\n",
    "#imageio.mimsave('./wignercoherentgreen.gif', wignercoherentimages, fps=15);\n",
    "#wignercoherentimages = [plotWigner(S, X_a, ticks_a, ticklabels_a, 'Coherent state', '', 'RdBu') for S in evSa.states]\n",
    "#imageio.mimsave('./wignercoherentblue.gif', wignercoherentimages, fps=20);\n",
    "for i in range(n_a)[::n_a//8]:\n",
    "    plotWigner(evSa.states[i], X_a, ticks_a, ticklabels_a, '', './wignercoherent_{}'.format(i), 'bwr')\n",
    "#for i in range(n_a)[::n_a//8]:\n",
    "#    plotWigner(evSa.states[i], X_a, ticks_a, ticklabels_a, '', './wignercoherentgreen_{}'.format(i), 'PRGn')\n",
    "#for i in range(n_a)[::n_a//8]:\n",
    "#    plotWigner(evSa.states[i], X_a, ticks_a, ticklabels_a, '', './wignercoherentblue_{}'.format(i), 'RdBu')"
   ]
  },
  {
   "cell_type": "code",
   "execution_count": null,
   "metadata": {},
   "outputs": [],
   "source": [
    "# Sticks\n",
    "#stickcoherentimages = [plotSticks(S, 15, 0.8, 'Coherent state') for S in evSa.states]\n",
    "#imageio.mimsave('./stickcoherent.gif', stickcoherentimages, fps=5)\n",
    "for i in range(n_a)[::n_a//8]:\n",
    "    plotSticks(evSa.states[i], 15, 0.6, '', './stickcoherent_{}'.format(i))"
   ]
  },
  {
   "cell_type": "code",
   "execution_count": null,
   "metadata": {},
   "outputs": [],
   "source": [
    "# Harmonic oscillator\n",
    "#harmoniccoherentimages = [plotHarmonic(S, 8, 6.0, 1.0, 'Coherent state') for S in evSa.states]\n",
    "#imageio.mimsave('./harmoniccoherent.gif', harmoniccoherentimages, fps=10)\n",
    "for i in range(n_a)[::n_a//8]:\n",
    "    plotHarmonic(evSa.states[i], 8, 6.0, 1.0, '', './harmoniccoherent_{}'.format(i))"
   ]
  },
  {
   "cell_type": "code",
   "execution_count": 79,
   "metadata": {},
   "outputs": [],
   "source": [
    "# Time-like\n",
    "#doubletimes_a = np.linspace(0.0, 2.0, 801) # Blue\n",
    "doubletimes_a = np.linspace(0.0, 1.5, 601) # Green\n",
    "#doubletimes_a = np.linspace(0.0, 1.0, 401) # Red\n",
    "doubleevSa = qu.mesolve(H, Sa, doubletimes_a, [], [])\n",
    "#plotTime(doubleevSa, doubletimes_a, 6, '', './timecoherent', 'midnightblue');\n",
    "plotTime(doubleevSa, doubletimes_a, 6, '', './timecoherentgreen', 'darkgreen');\n",
    "#plotTime(doubleevSa, doubletimes_a, 6, '', './timecoherentred', 'red');"
   ]
  },
  {
   "cell_type": "markdown",
   "metadata": {},
   "source": [
    "### Cat state"
   ]
  },
  {
   "cell_type": "code",
   "execution_count": 44,
   "metadata": {},
   "outputs": [],
   "source": [
    "# Creation\n",
    "Sc = (qu.coherent(N, np.sqrt(5))+qu.coherent(N, -np.sqrt(5))).unit()\n",
    "# Evolution\n",
    "n_c = 40\n",
    "max_c = 1\n",
    "times_c = np.linspace(0.0, max_c*(n_c-1)/n_c, n_c)\n",
    "evSc = qu.mesolve(H, Sc, times_c, [], [])"
   ]
  },
  {
   "cell_type": "code",
   "execution_count": 45,
   "metadata": {},
   "outputs": [],
   "source": [
    "# Wigner\n",
    "X_c = np.linspace(-7,7,351)\n",
    "W_c = qu.wigner(evSc.states[0], X_c, X_c)\n",
    "ticks_c = [W_c.min(), 0., W_c.max()]\n",
    "ticklabels_c = ['{:.2f}'.format(W_c.min()),'{:.2f}'.format(0.),'{:.2f}'.format(W_c.max())]\n",
    "wignercatimages = [plotWigner(S, X_c, ticks_c, ticklabels_c, 'Cat state') for S in evSc.states]\n",
    "imageio.mimsave('./wignercat.gif', wignercatimages, fps=10)\n",
    "for i in range(n_c)[::n_c//8]:\n",
    "    plotWigner(evSc.states[i], X_c, ticks_c, ticklabels_c, '', './wignercat_{}'.format(i))"
   ]
  },
  {
   "cell_type": "code",
   "execution_count": null,
   "metadata": {},
   "outputs": [],
   "source": [
    "# Sticks\n",
    "#stickcatimages = [plotSticks(S, 15, 0.8, 'Cat state') for S in evSc.states]\n",
    "#imageio.mimsave('./stickcat.gif', stickcatimages, fps=5)\n",
    "for i in range(n_c)[::n_c//8]:\n",
    "    plotSticks(evSc.states[i], 15, 0.6, '', './stickcat_{}'.format(i))"
   ]
  },
  {
   "cell_type": "code",
   "execution_count": null,
   "metadata": {},
   "outputs": [],
   "source": [
    "# Harmonic oscillator\n",
    "#harmoniccatimages = [plotHarmonic(S, 8, 6.0, 1.0, 'Cat state') for S in evSc.states]\n",
    "#imageio.mimsave('./harmoniccat.gif', harmoniccatimages, fps=10)\n",
    "for i in range(n_c)[::n_c//8]:\n",
    "    plotHarmonic(evSc.states[i], 8, 6.0, 1.0, '', './harmoniccat_{}'.format(i))"
   ]
  },
  {
   "cell_type": "code",
   "execution_count": 86,
   "metadata": {},
   "outputs": [],
   "source": [
    "# Time-like\n",
    "#doubletimes_c = np.linspace(0.0, 2.0, 801)\n",
    "doubletimes_c = np.linspace(0.0, 1.0, 401)\n",
    "doubleevSc = qu.mesolve(H, Sc, doubletimes_c, [], [])\n",
    "#plotTime(doubleevSc, doubletimes_c, 6, '', './timecat');\n",
    "plotTime(doubleevSc, doubletimes_c, 6, '', './timecatred','red');"
   ]
  },
  {
   "cell_type": "markdown",
   "metadata": {},
   "source": [
    "### Squeezed vacuum"
   ]
  },
  {
   "cell_type": "code",
   "execution_count": 47,
   "metadata": {},
   "outputs": [],
   "source": [
    "# Creation\n",
    "Ssv = (qu.squeeze(N, 0.7)*qu.fock(N, 0)).unit()\n",
    "# Evolution\n",
    "n_sv = 40\n",
    "max_sv = 1\n",
    "times_sv = np.linspace(0.0, max_sv*(n_sv-1)/n_sv, n_sv)\n",
    "evSsv = qu.mesolve(H, Ssv, times_sv, [], [])"
   ]
  },
  {
   "cell_type": "code",
   "execution_count": 48,
   "metadata": {},
   "outputs": [],
   "source": [
    "# Wigner\n",
    "X_sv = np.linspace(-7,7,351)\n",
    "W_sv = qu.wigner(evSsv.states[0], X_sv, X_sv)\n",
    "ticks_sv = [0, W_sv.max()]\n",
    "ticklabels_sv = ['{:.2f}'.format(0),'{:.2f}'.format(W_sv.max())]\n",
    "wignersqueezedvacimages = [plotWigner(S, X_sv, ticks_sv, ticklabels_sv, 'Squeezed vacuum') for S in evSsv.states]\n",
    "imageio.mimsave('./wignersqueezedvac.gif', wignersqueezedvacimages, fps=10)\n",
    "for i in range(n_sv)[::n_sv//8]:\n",
    "    plotWigner(evSsv.states[i], X_sv, ticks_sv, ticklabels_sv, '', './wignersqueezedvac_{}'.format(i))"
   ]
  },
  {
   "cell_type": "code",
   "execution_count": null,
   "metadata": {},
   "outputs": [],
   "source": [
    "# Sticks\n",
    "#sticksqueezedvacimages = [plotSticks(S, 15, 0.8, 'Squeezed vacuum') for S in evSsv.states]\n",
    "#imageio.mimsave('./sticksqueezedvac.gif', sticksqueezedvacimages, fps=5)\n",
    "for i in range(n_sv)[::n_sv//8]:\n",
    "    plotSticks(evSsv.states[i], 15, 0.6, '', './sticksqueezedvac_{}'.format(i))"
   ]
  },
  {
   "cell_type": "code",
   "execution_count": null,
   "metadata": {},
   "outputs": [],
   "source": [
    "# Harmonic oscillator\n",
    "#harmonicsqueezedvacimages = [plotHarmonic(S, 8, 6.0, 1.0, 'Squeezed vacuum') for S in evSsv.states]\n",
    "#imageio.mimsave('./harmonicsqueezedvac.gif', harmonicsqueezedvacimages, fps=10)\n",
    "for i in range(n_sv)[::n_sv//8]:\n",
    "    plotHarmonic(evSsv.states[i], 8, 6.0, 1.0, '', './harmonicsqueezedvac_{}'.format(i))"
   ]
  },
  {
   "cell_type": "code",
   "execution_count": 85,
   "metadata": {},
   "outputs": [],
   "source": [
    "# Time-like\n",
    "#doubletimes_sv = np.linspace(0.0, 2.0, 801)\n",
    "doubletimes_sv = np.linspace(0.0, 1.0, 401)\n",
    "doubleevSsv = qu.mesolve(H, Ssv, doubletimes_sv, [], [])\n",
    "#plotTime(doubleevSsv, doubletimes_sv, 6, '', './timesqueezedvac');\n",
    "plotTime(doubleevSsv, doubletimes_sv, 6, '', './timesqueezedvacred', 'red');"
   ]
  },
  {
   "cell_type": "markdown",
   "metadata": {},
   "source": [
    "### Amplitude squeezed state"
   ]
  },
  {
   "cell_type": "code",
   "execution_count": 50,
   "metadata": {},
   "outputs": [],
   "source": [
    "# Creation\n",
    "Sas = (qu.displace(N, np.sqrt(3))*qu.squeeze(N, 0.7)*qu.fock(N, 0)).unit()\n",
    "# Evolution\n",
    "n_as = 40\n",
    "max_as = 1\n",
    "times_as = np.linspace(0.0, max_as*(n_as-1)/n_as, n_as)\n",
    "evSas = qu.mesolve(H, Sas, times_as, [], [])"
   ]
  },
  {
   "cell_type": "code",
   "execution_count": 51,
   "metadata": {},
   "outputs": [],
   "source": [
    "# Wigner\n",
    "X_as = np.linspace(-7,7,351)\n",
    "W_as = qu.wigner(evSas.states[0], X_as, X_as)\n",
    "ticks_as = [0, W_as.max()]\n",
    "ticklabels_as = ['{:.2f}'.format(0),'{:.2f}'.format(W_as.max())]\n",
    "wignerampsqueezedimages = [plotWigner(S, X_as, ticks_as, ticklabels_as, 'Amplitude squeezed') for S in evSas.states]\n",
    "imageio.mimsave('./wignerampsqueezed.gif', wignerampsqueezedimages, fps=10)\n",
    "for i in range(n_as)[::n_as//8]:\n",
    "    plotWigner(evSas.states[i], X_as, ticks_as, ticklabels_as, '', './wignerampsqueezed_{}'.format(i))"
   ]
  },
  {
   "cell_type": "code",
   "execution_count": null,
   "metadata": {},
   "outputs": [],
   "source": [
    "# Sticks\n",
    "#stickampsqueezedimages = [plotSticks(S, 15, 0.8, 'Amplitude squeezed') for S in evSas.states]\n",
    "#imageio.mimsave('./stickampsqueezed.gif', stickampsqueezedimages, fps=5)\n",
    "for i in range(n_as)[::n_as//8]:\n",
    "    plotSticks(evSas.states[i], 15, 0.6, '', './sticksampsqueezed_{}'.format(i))"
   ]
  },
  {
   "cell_type": "code",
   "execution_count": null,
   "metadata": {},
   "outputs": [],
   "source": [
    "# Harmonic oscillator\n",
    "#harmonicampsqueezedimages = [plotHarmonic(S, 8, 6.0, 1.0, 'Amplitude squeezed') for S in evSas.states]\n",
    "#imageio.mimsave('./harmonicampsqueezed.gif', harmonicampsqueezedimages, fps=10)\n",
    "for i in range(n_as)[::n_as//8]:\n",
    "    plotHarmonic(evSas.states[i], 8, 6.0, 1.0, '', './harmonicampsqueezed_{}'.format(i))"
   ]
  },
  {
   "cell_type": "code",
   "execution_count": 52,
   "metadata": {},
   "outputs": [],
   "source": [
    "# Time-like\n",
    "doubletimes_as = np.linspace(0.0, 2.0, 801)\n",
    "doubleevSas = qu.mesolve(H, Sas, doubletimes_as, [], [])\n",
    "plotTime(doubleevSas, doubletimes_as, 6, '', './timeampsqueezed');"
   ]
  },
  {
   "cell_type": "markdown",
   "metadata": {},
   "source": [
    "### Phase squeezed state"
   ]
  },
  {
   "cell_type": "code",
   "execution_count": 53,
   "metadata": {},
   "outputs": [],
   "source": [
    "# Creation\n",
    "Sps = (qu.displace(N, np.sqrt(3))*qu.squeeze(N, -0.7)*qu.fock(N, 0)).unit()\n",
    "# Evolution\n",
    "n_ps = 40\n",
    "max_ps = 1\n",
    "times_ps = np.linspace(0.0, max_ps*(n_ps-1)/n_ps, n_ps)\n",
    "evSps = qu.mesolve(H, Sps, times_ps, [], [])"
   ]
  },
  {
   "cell_type": "code",
   "execution_count": 54,
   "metadata": {},
   "outputs": [],
   "source": [
    "# Wigner\n",
    "X_ps = np.linspace(-7,7,351)\n",
    "W_ps = qu.wigner(evSps.states[0], X_ps, X_ps)\n",
    "ticks_ps = [0, W_ps.max()]\n",
    "ticklabels_ps = ['{:.2f}'.format(0),'{:.2f}'.format(W_ps.max())]\n",
    "wignerphasesqueezedimages = [plotWigner(S, X_ps, ticks_ps, ticklabels_ps, 'Phase squeezed') for S in evSps.states]\n",
    "imageio.mimsave('./wignerphasesqueezed.gif', wignerphasesqueezedimages, fps=10)\n",
    "for i in range(n_ps)[::n_ps//8]:\n",
    "    plotWigner(evSps.states[i], X_ps, ticks_ps, ticklabels_ps, '', './wignerphasesqueezed_{}'.format(i))"
   ]
  },
  {
   "cell_type": "code",
   "execution_count": null,
   "metadata": {},
   "outputs": [],
   "source": [
    "# Sticks\n",
    "#stickphasesqueezedimages = [plotSticks(S, 15, 0.8, 'Phase squeezed') for S in evSps.states]\n",
    "#imageio.mimsave('./stickphasesqueezed.gif', stickphasesqueezedimages, fps=5)\n",
    "for i in range(n_ps)[::n_ps//8]:\n",
    "    plotSticks(evSps.states[i], 15, 0.6, '', './sticksphasesqueezed_{}'.format(i))"
   ]
  },
  {
   "cell_type": "code",
   "execution_count": null,
   "metadata": {},
   "outputs": [],
   "source": [
    "# Harmonic oscillator\n",
    "#harmonicphasesqueezedimages = [plotHarmonic(S, 8, 6.0, 1.0, 'Phase squeezed') for S in evSps.states]\n",
    "#imageio.mimsave('./harmonicphasesqueezed.gif', harmonicphasesqueezedimages, fps=10)\n",
    "for i in range(n_ps)[::n_ps//8]:\n",
    "    plotHarmonic(evSps.states[i], 8, 6.0, 1.0, '', './harmonicphasesqueezed_{}'.format(i))"
   ]
  },
  {
   "cell_type": "code",
   "execution_count": 55,
   "metadata": {},
   "outputs": [],
   "source": [
    "# Time-like\n",
    "doubletimes_ps = np.linspace(0.0, 2.0, 801)\n",
    "doubleevSps = qu.mesolve(H, Sps, doubletimes_ps, [], [])\n",
    "plotTime(doubleevSps, doubletimes_ps, 6, '', './timephasesqueezed');"
   ]
  },
  {
   "cell_type": "markdown",
   "metadata": {},
   "source": [
    "### Fock state"
   ]
  },
  {
   "cell_type": "code",
   "execution_count": 56,
   "metadata": {},
   "outputs": [],
   "source": [
    "# Creation (this is an eigenstate of the Hamiltonian)\n",
    "Sn = (qu.fock(N, 3)).unit()"
   ]
  },
  {
   "cell_type": "code",
   "execution_count": 59,
   "metadata": {},
   "outputs": [],
   "source": [
    "# Wigner\n",
    "X_n = np.linspace(-7,7,351)\n",
    "W_n = qu.wigner(Sn, X_n, X_n)\n",
    "ticks_n = [W_n.min(), 0, W_n.max()]\n",
    "ticklabels_n = ['{:.2f}'.format(W_n.min()),'{:.2f}'.format(0),'{:.2f}'.format(W_n.max())]\n",
    "wignerfockimage = [plotWigner(Sn, X_n, ticks_n, ticklabels_n, 'Fock N=3')]\n",
    "imageio.mimsave('./wignerfock.gif', wignerfockimage)\n",
    "plotWigner(Sn, X_n, ticks_n, ticklabels_n, '', './wignerfock');"
   ]
  },
  {
   "cell_type": "code",
   "execution_count": null,
   "metadata": {},
   "outputs": [],
   "source": [
    "# Sticks\n",
    "plotSticks(Sn, 15, 0.6, '', './stickfock');"
   ]
  },
  {
   "cell_type": "code",
   "execution_count": null,
   "metadata": {},
   "outputs": [],
   "source": [
    "# Harmonic oscillator\n",
    "plotHarmonic(Sn, 8, 6.0, 1.0, '', './harmonicfock');"
   ]
  },
  {
   "cell_type": "code",
   "execution_count": 58,
   "metadata": {
    "scrolled": true
   },
   "outputs": [],
   "source": [
    "# Time-like\n",
    "doubletimes_n = np.linspace(0.0, 2.0, 801)\n",
    "doubleevSn = qu.mesolve(H, Sn, doubletimes_n, [], [])\n",
    "plotTime(doubleevSn, doubletimes_n, 6, '', './timefock');"
   ]
  },
  {
   "cell_type": "markdown",
   "metadata": {},
   "source": [
    "### Vacuum state"
   ]
  },
  {
   "cell_type": "code",
   "execution_count": 60,
   "metadata": {},
   "outputs": [],
   "source": [
    "# Creation (this is an eigenstate of the Hamiltonian)\n",
    "Sv = (qu.fock(N, 0)).unit()"
   ]
  },
  {
   "cell_type": "code",
   "execution_count": 62,
   "metadata": {},
   "outputs": [],
   "source": [
    "# Wigner\n",
    "X_v = np.linspace(-7,7,351)\n",
    "W_v = qu.wigner(Sv, X_v, X_v)\n",
    "ticks_v = [W_v.min(), 0, W_v.max()]\n",
    "ticklabels_v = ['{:.2f}'.format(W_v.min()),'{:.2f}'.format(0),'{:.2f}'.format(W_v.max())]\n",
    "wignervacuumimage = [plotWigner(Sv, X_v, ticks_v, ticklabels_v, 'Vacuum')]\n",
    "imageio.mimsave('./wignervacuum.gif', wignervacuumimage)\n",
    "plotWigner(Sv, X_v, ticks_v, ticklabels_v, '', './wignervacuum');"
   ]
  },
  {
   "cell_type": "code",
   "execution_count": 66,
   "metadata": {},
   "outputs": [],
   "source": [
    "# Sticks\n",
    "plotSticks(Sv, 15, 1.1, '', './stickvacuum');"
   ]
  },
  {
   "cell_type": "code",
   "execution_count": 64,
   "metadata": {},
   "outputs": [],
   "source": [
    "# Harmonic oscillator\n",
    "plotHarmonic(Sv, 8, 6.0, 1.0, '', './harmonicvacuum');"
   ]
  },
  {
   "cell_type": "code",
   "execution_count": 80,
   "metadata": {
    "scrolled": true
   },
   "outputs": [],
   "source": [
    "# Time-like\n",
    "doubletimes_v = np.linspace(0.0, 2.0, 801)\n",
    "doubleevSv = qu.mesolve(H, Sv, doubletimes_n, [], [])\n",
    "#plotTime(doubleevSv, doubletimes_v, 6, '', './timevacuum');\n",
    "plotTime(doubleevSv, doubletimes_v, 6, '', './timevacuumred', 'red');"
   ]
  },
  {
   "cell_type": "code",
   "execution_count": null,
   "metadata": {},
   "outputs": [],
   "source": []
  }
 ],
 "metadata": {
  "file_extension": ".py",
  "kernelspec": {
   "display_name": "Python 3",
   "language": "python",
   "name": "python3"
  },
  "language_info": {
   "codemirror_mode": {
    "name": "ipython",
    "version": 3
   },
   "file_extension": ".py",
   "mimetype": "text/x-python",
   "name": "python",
   "nbconvert_exporter": "python",
   "pygments_lexer": "ipython3",
   "version": "3.8.4"
  },
  "mimetype": "text/x-python",
  "name": "python",
  "npconvert_exporter": "python",
  "pygments_lexer": "ipython3",
  "version": 3
 },
 "nbformat": 4,
 "nbformat_minor": 2
}
